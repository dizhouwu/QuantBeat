{
 "cells": [
  {
   "cell_type": "code",
   "execution_count": 5,
   "id": "40bf23dc-f6c2-495c-bf1d-41612d1cc321",
   "metadata": {},
   "outputs": [
    {
     "name": "stdout",
     "output_type": "stream",
     "text": [
      "The autoreload extension is already loaded. To reload it, use:\n",
      "  %reload_ext autoreload\n"
     ]
    }
   ],
   "source": [
    "%load_ext autoreload\n",
    "%autoreload 2"
   ]
  },
  {
   "cell_type": "code",
   "execution_count": 8,
   "id": "ca069359-f1d0-4a06-b712-af44a0638040",
   "metadata": {},
   "outputs": [],
   "source": [
    "import numpy as np\n",
    "from numba import njit\n",
    "import numba\n",
    "from nonlinshrink import nonlinshrink as nls\n",
    "from nonlinshrink import nonlinshrink_numba as nls_numba\n",
    "\n",
    "\n",
    "def test_without_numba():\n",
    "    np.random.seed(2022)\n",
    "    ps = np.arange(start=10, stop=200, step=20)\n",
    "\n",
    "    e_prial = np.zeros(len(ps))\n",
    "    for i, p in enumerate(ps):\n",
    "        reps = int(np.maximum(100, np.minimum(100, 1e5 / p)))\n",
    "        prial = np.zeros(reps, dtype=float)\n",
    "        for j in np.arange(reps):\n",
    "\n",
    "            n = 600\n",
    "            lam = np.concatenate(\n",
    "                [\n",
    "                    np.ones(int(p / 5)),\n",
    "                    3 * np.ones(int(2 * p / 5.0)),\n",
    "                    10 * np.ones(int(2 * p / 5.0)),\n",
    "                ]\n",
    "            )\n",
    "            sigma = np.diag(np.ones(p) * lam)\n",
    "            xx = np.random.randn(n, p)\n",
    "            d, u = np.linalg.eigh(sigma)\n",
    "            # y = np.linalg.solve(u.T, xx.T)\n",
    "            s_sqrt = np.eye(p, p) * np.sqrt(lam)\n",
    "            y = np.dot(xx, s_sqrt)\n",
    "            s_tilde = nls.shrink_cov(y)\n",
    "            s_sample = np.cov(y.T)\n",
    "            pr = nls.prial(s_sample, s_tilde, sigma)\n",
    "\n",
    "            prial[j] = float(pr)\n",
    "\n",
    "        e_prial[i] = np.mean(prial)\n",
    "    return e_prial\n",
    "\n",
    "@njit\n",
    "def test_with_numba():\n",
    "    np.random.seed(2022)\n",
    "    ps = np.arange(start=10, stop=200, step=20)\n",
    "\n",
    "    e_prial = np.zeros(len(ps))\n",
    "    for i, p in enumerate(ps):\n",
    "        reps = int(np.maximum(100, np.minimum(100, 1e5 / p)))\n",
    "        prial = np.zeros(reps)\n",
    "        for j in np.arange(reps):\n",
    "\n",
    "            n = 600\n",
    "            lam = np.concatenate(\n",
    "                (\n",
    "                    np.ones(int(p / 5)),\n",
    "                    3 * np.ones(int(2 * p / 5.0)),\n",
    "                    10 * np.ones(int(2 * p / 5.0)),\n",
    "                )\n",
    "            )\n",
    "            sigma = np.diag(np.ones(p) * lam)\n",
    "            xx = np.random.randn(n, p)\n",
    "            d, u = np.linalg.eigh(sigma)\n",
    "            # y = np.linalg.solve(u.T, xx.T)\n",
    "            s_sqrt = np.eye(p, p) * np.sqrt(lam)\n",
    "            y = np.dot(xx, s_sqrt)\n",
    "            s_tilde = nls_numba.shrink_cov(y)\n",
    "            s_sample = np.cov(y.T)\n",
    "            pr = nls_numba.prial(s_sample, s_tilde, sigma)\n",
    "\n",
    "            prial[j] = float(pr)\n",
    "\n",
    "        e_prial[i] = np.mean(prial)\n",
    "    return e_prial"
   ]
  },
  {
   "cell_type": "code",
   "execution_count": 9,
   "id": "a7d18083-3d3d-42e2-9a16-a131dbfe1564",
   "metadata": {},
   "outputs": [],
   "source": [
    "test_cov_mat = np.random.rand(20,20)\n",
    "test_cov_mat = np.dot(test_cov_mat, test_cov_mat.T)"
   ]
  },
  {
   "cell_type": "code",
   "execution_count": 10,
   "id": "ed7ef94d-33ad-4b9a-b076-da96318de6ef",
   "metadata": {},
   "outputs": [
    {
     "name": "stdout",
     "output_type": "stream",
     "text": [
      "57.8 µs ± 25.6 µs per loop (mean ± std. dev. of 7 runs, 1 loop each)\n"
     ]
    }
   ],
   "source": [
    "%%timeit\n",
    "nls_numba.shrink_cov(test_cov_mat)"
   ]
  },
  {
   "cell_type": "code",
   "execution_count": 12,
   "id": "cc0d1fe7-67d7-4bd7-929f-a5a015e3fa89",
   "metadata": {},
   "outputs": [
    {
     "name": "stdout",
     "output_type": "stream",
     "text": [
      "225 µs ± 2.07 µs per loop (mean ± std. dev. of 7 runs, 1000 loops each)\n"
     ]
    }
   ],
   "source": [
    "%%timeit\n",
    "nls.shrink_cov(test_cov_mat) "
   ]
  }
 ],
 "metadata": {
  "kernelspec": {
   "display_name": "Python 3 (ipykernel)",
   "language": "python",
   "name": "python3"
  },
  "language_info": {
   "codemirror_mode": {
    "name": "ipython",
    "version": 3
   },
   "file_extension": ".py",
   "mimetype": "text/x-python",
   "name": "python",
   "nbconvert_exporter": "python",
   "pygments_lexer": "ipython3",
   "version": "3.9.7"
  }
 },
 "nbformat": 4,
 "nbformat_minor": 5
}
