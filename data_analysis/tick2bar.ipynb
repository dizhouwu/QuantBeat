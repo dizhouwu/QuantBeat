{
 "cells": [
  {
   "cell_type": "code",
   "execution_count": 22,
   "id": "dfc6ec86",
   "metadata": {
    "ExecuteTime": {
     "end_time": "2022-01-25T04:51:58.413889Z",
     "start_time": "2022-01-25T04:51:58.402894Z"
    }
   },
   "outputs": [],
   "source": [
    "import pandas as pd\n",
    "import numpy as np\n",
    "from numba import njit"
   ]
  },
  {
   "cell_type": "code",
   "execution_count": 23,
   "id": "7be2f461",
   "metadata": {
    "ExecuteTime": {
     "end_time": "2022-01-25T05:02:42.732863Z",
     "start_time": "2022-01-25T05:02:39.306980Z"
    }
   },
   "outputs": [],
   "source": [
    "def random_dates(start, end, n=1000000):\n",
    "\n",
    "    start_u = start.value / 1e3\n",
    "    end_u = end.value / 1e3\n",
    "    \n",
    "    return sorted(pd.to_datetime(np.random.randint(start_u, end_u, n, dtype=np.int64), unit='us'))\n",
    "\n",
    "\n",
    "start = pd.to_datetime('2015-01-01')\n",
    "end = pd.to_datetime('2015-03-01')\n",
    "times = random_dates(start, end)"
   ]
  },
  {
   "cell_type": "code",
   "execution_count": 61,
   "id": "0c199aca",
   "metadata": {
    "ExecuteTime": {
     "end_time": "2022-01-25T05:02:44.886578Z",
     "start_time": "2022-01-25T05:02:42.734861Z"
    }
   },
   "outputs": [],
   "source": [
    "prices = np.random.lognormal(4,0.03, len(times))\n",
    "sizes = np.random.randint(100, 5000, len(times))\n",
    "df = pd.DataFrame({\"times\": times, \"prices\": prices, \"sizes\": sizes}).set_index(\"times\")"
   ]
  },
  {
   "cell_type": "code",
   "execution_count": 81,
   "id": "f526d4bb-06a3-4cfd-84d3-2690cce1795b",
   "metadata": {},
   "outputs": [
    {
     "data": {
      "text/html": [
       "<div>\n",
       "<style scoped>\n",
       "    .dataframe tbody tr th:only-of-type {\n",
       "        vertical-align: middle;\n",
       "    }\n",
       "\n",
       "    .dataframe tbody tr th {\n",
       "        vertical-align: top;\n",
       "    }\n",
       "\n",
       "    .dataframe thead th {\n",
       "        text-align: right;\n",
       "    }\n",
       "</style>\n",
       "<table border=\"1\" class=\"dataframe\">\n",
       "  <thead>\n",
       "    <tr style=\"text-align: right;\">\n",
       "      <th></th>\n",
       "      <th>open</th>\n",
       "      <th>high</th>\n",
       "      <th>low</th>\n",
       "      <th>close</th>\n",
       "      <th>sizes</th>\n",
       "    </tr>\n",
       "    <tr>\n",
       "      <th>times</th>\n",
       "      <th></th>\n",
       "      <th></th>\n",
       "      <th></th>\n",
       "      <th></th>\n",
       "      <th></th>\n",
       "    </tr>\n",
       "  </thead>\n",
       "  <tbody>\n",
       "    <tr>\n",
       "      <th>2015-01-01 00:00:00</th>\n",
       "      <td>54.673465</td>\n",
       "      <td>56.450564</td>\n",
       "      <td>51.810608</td>\n",
       "      <td>55.981287</td>\n",
       "      <td>32513</td>\n",
       "    </tr>\n",
       "    <tr>\n",
       "      <th>2015-01-01 00:01:00</th>\n",
       "      <td>51.730745</td>\n",
       "      <td>54.515736</td>\n",
       "      <td>51.590270</td>\n",
       "      <td>53.161950</td>\n",
       "      <td>12303</td>\n",
       "    </tr>\n",
       "    <tr>\n",
       "      <th>2015-01-01 00:02:00</th>\n",
       "      <td>54.565729</td>\n",
       "      <td>57.512744</td>\n",
       "      <td>52.475725</td>\n",
       "      <td>54.605392</td>\n",
       "      <td>45481</td>\n",
       "    </tr>\n",
       "    <tr>\n",
       "      <th>2015-01-01 00:03:00</th>\n",
       "      <td>52.692532</td>\n",
       "      <td>55.927476</td>\n",
       "      <td>51.052040</td>\n",
       "      <td>55.579325</td>\n",
       "      <td>21744</td>\n",
       "    </tr>\n",
       "    <tr>\n",
       "      <th>2015-01-01 00:04:00</th>\n",
       "      <td>55.885854</td>\n",
       "      <td>56.488472</td>\n",
       "      <td>52.097841</td>\n",
       "      <td>55.647111</td>\n",
       "      <td>31551</td>\n",
       "    </tr>\n",
       "  </tbody>\n",
       "</table>\n",
       "</div>"
      ],
      "text/plain": [
       "                          open       high        low      close  sizes\n",
       "times                                                                 \n",
       "2015-01-01 00:00:00  54.673465  56.450564  51.810608  55.981287  32513\n",
       "2015-01-01 00:01:00  51.730745  54.515736  51.590270  53.161950  12303\n",
       "2015-01-01 00:02:00  54.565729  57.512744  52.475725  54.605392  45481\n",
       "2015-01-01 00:03:00  52.692532  55.927476  51.052040  55.579325  21744\n",
       "2015-01-01 00:04:00  55.885854  56.488472  52.097841  55.647111  31551"
      ]
     },
     "execution_count": 81,
     "metadata": {},
     "output_type": "execute_result"
    }
   ],
   "source": [
    "time_bar_df = df.groupby(pd.Grouper(freq=\"1min\")).agg({'prices': 'ohlc', 'sizes': 'sum'})\n",
    "time_bar_df.columns = time_bar_df.columns.get_level_values(1)\n",
    "time_bar_df.head()"
   ]
  },
  {
   "cell_type": "code",
   "execution_count": 66,
   "id": "6ccd4835",
   "metadata": {
    "ExecuteTime": {
     "end_time": "2022-01-25T04:55:47.705745Z",
     "start_time": "2022-01-25T04:55:47.698748Z"
    }
   },
   "outputs": [],
   "source": [
    "@njit\n",
    "def bar(xs, y): \n",
    "    return (xs / y).astype(np.int64) * y"
   ]
  },
  {
   "cell_type": "code",
   "execution_count": 70,
   "id": "2037c27d",
   "metadata": {
    "ExecuteTime": {
     "end_time": "2022-01-25T05:02:55.886067Z",
     "start_time": "2022-01-25T05:02:55.748069Z"
    }
   },
   "outputs": [
    {
     "data": {
      "text/html": [
       "<div>\n",
       "<style scoped>\n",
       "    .dataframe tbody tr th:only-of-type {\n",
       "        vertical-align: middle;\n",
       "    }\n",
       "\n",
       "    .dataframe tbody tr th {\n",
       "        vertical-align: top;\n",
       "    }\n",
       "\n",
       "    .dataframe thead th {\n",
       "        text-align: right;\n",
       "    }\n",
       "</style>\n",
       "<table border=\"1\" class=\"dataframe\">\n",
       "  <thead>\n",
       "    <tr style=\"text-align: right;\">\n",
       "      <th></th>\n",
       "      <th>open</th>\n",
       "      <th>high</th>\n",
       "      <th>low</th>\n",
       "      <th>close</th>\n",
       "      <th>sizes</th>\n",
       "    </tr>\n",
       "  </thead>\n",
       "  <tbody>\n",
       "    <tr>\n",
       "      <th>0</th>\n",
       "      <td>54.673465</td>\n",
       "      <td>56.450564</td>\n",
       "      <td>51.810608</td>\n",
       "      <td>54.463559</td>\n",
       "      <td>28961</td>\n",
       "    </tr>\n",
       "    <tr>\n",
       "      <th>10</th>\n",
       "      <td>55.981287</td>\n",
       "      <td>56.727351</td>\n",
       "      <td>51.590270</td>\n",
       "      <td>55.033733</td>\n",
       "      <td>28695</td>\n",
       "    </tr>\n",
       "    <tr>\n",
       "      <th>20</th>\n",
       "      <td>54.067034</td>\n",
       "      <td>57.512744</td>\n",
       "      <td>52.475725</td>\n",
       "      <td>52.475725</td>\n",
       "      <td>25382</td>\n",
       "    </tr>\n",
       "    <tr>\n",
       "      <th>30</th>\n",
       "      <td>52.722234</td>\n",
       "      <td>56.364488</td>\n",
       "      <td>51.052040</td>\n",
       "      <td>53.384098</td>\n",
       "      <td>20454</td>\n",
       "    </tr>\n",
       "    <tr>\n",
       "      <th>40</th>\n",
       "      <td>54.715569</td>\n",
       "      <td>56.488472</td>\n",
       "      <td>52.423026</td>\n",
       "      <td>52.423026</td>\n",
       "      <td>29662</td>\n",
       "    </tr>\n",
       "  </tbody>\n",
       "</table>\n",
       "</div>"
      ],
      "text/plain": [
       "         open       high        low      close  sizes\n",
       "0   54.673465  56.450564  51.810608  54.463559  28961\n",
       "10  55.981287  56.727351  51.590270  55.033733  28695\n",
       "20  54.067034  57.512744  52.475725  52.475725  25382\n",
       "30  52.722234  56.364488  51.052040  53.384098  20454\n",
       "40  54.715569  56.488472  52.423026  52.423026  29662"
      ]
     },
     "execution_count": 70,
     "metadata": {},
     "output_type": "execute_result"
    }
   ],
   "source": [
    "tick_bar_df = df.groupby(bar(np.arange(len(df)), 10)).agg({'prices': 'ohlc', 'sizes': 'sum'})\n",
    "tick_bar_df.columns = tick_bar_df.columns.get_level_values(1)\n",
    "tick_bar_df.head()"
   ]
  },
  {
   "cell_type": "code",
   "execution_count": 82,
   "id": "3da72230-71af-4ecf-a1ca-5d76c8b398e4",
   "metadata": {},
   "outputs": [
    {
     "data": {
      "text/html": [
       "<div>\n",
       "<style scoped>\n",
       "    .dataframe tbody tr th:only-of-type {\n",
       "        vertical-align: middle;\n",
       "    }\n",
       "\n",
       "    .dataframe tbody tr th {\n",
       "        vertical-align: top;\n",
       "    }\n",
       "\n",
       "    .dataframe thead th {\n",
       "        text-align: right;\n",
       "    }\n",
       "</style>\n",
       "<table border=\"1\" class=\"dataframe\">\n",
       "  <thead>\n",
       "    <tr style=\"text-align: right;\">\n",
       "      <th></th>\n",
       "      <th>open</th>\n",
       "      <th>high</th>\n",
       "      <th>low</th>\n",
       "      <th>close</th>\n",
       "      <th>sizes</th>\n",
       "    </tr>\n",
       "  </thead>\n",
       "  <tbody>\n",
       "    <tr>\n",
       "      <th>0</th>\n",
       "      <td>54.673465</td>\n",
       "      <td>57.512744</td>\n",
       "      <td>51.052040</td>\n",
       "      <td>53.796713</td>\n",
       "      <td>99393</td>\n",
       "    </tr>\n",
       "    <tr>\n",
       "      <th>100000</th>\n",
       "      <td>53.384098</td>\n",
       "      <td>57.098199</td>\n",
       "      <td>49.126217</td>\n",
       "      <td>56.580686</td>\n",
       "      <td>99398</td>\n",
       "    </tr>\n",
       "    <tr>\n",
       "      <th>200000</th>\n",
       "      <td>52.597644</td>\n",
       "      <td>58.258751</td>\n",
       "      <td>50.494419</td>\n",
       "      <td>52.986790</td>\n",
       "      <td>99067</td>\n",
       "    </tr>\n",
       "    <tr>\n",
       "      <th>300000</th>\n",
       "      <td>55.082085</td>\n",
       "      <td>57.453189</td>\n",
       "      <td>51.041228</td>\n",
       "      <td>55.846594</td>\n",
       "      <td>99743</td>\n",
       "    </tr>\n",
       "    <tr>\n",
       "      <th>400000</th>\n",
       "      <td>55.448805</td>\n",
       "      <td>57.302612</td>\n",
       "      <td>50.973233</td>\n",
       "      <td>52.461393</td>\n",
       "      <td>101253</td>\n",
       "    </tr>\n",
       "  </tbody>\n",
       "</table>\n",
       "</div>"
      ],
      "text/plain": [
       "             open       high        low      close   sizes\n",
       "0       54.673465  57.512744  51.052040  53.796713   99393\n",
       "100000  53.384098  57.098199  49.126217  56.580686   99398\n",
       "200000  52.597644  58.258751  50.494419  52.986790   99067\n",
       "300000  55.082085  57.453189  51.041228  55.846594   99743\n",
       "400000  55.448805  57.302612  50.973233  52.461393  101253"
      ]
     },
     "execution_count": 82,
     "metadata": {},
     "output_type": "execute_result"
    }
   ],
   "source": [
    "volume_bar_df = df.groupby(bar(np.cumsum((df['sizes']).to_numpy(dtype=np.int64)), 100000)).agg(\n",
    "    {'prices': 'ohlc', 'sizes': 'sum'})\n",
    "volume_bar_df.columns = volume_bar_df.columns.get_level_values(1)\n",
    "volume_bar_df.head()"
   ]
  },
  {
   "cell_type": "code",
   "execution_count": 83,
   "id": "763c5015",
   "metadata": {},
   "outputs": [
    {
     "data": {
      "text/html": [
       "<div>\n",
       "<style scoped>\n",
       "    .dataframe tbody tr th:only-of-type {\n",
       "        vertical-align: middle;\n",
       "    }\n",
       "\n",
       "    .dataframe tbody tr th {\n",
       "        vertical-align: top;\n",
       "    }\n",
       "\n",
       "    .dataframe thead th {\n",
       "        text-align: right;\n",
       "    }\n",
       "</style>\n",
       "<table border=\"1\" class=\"dataframe\">\n",
       "  <thead>\n",
       "    <tr style=\"text-align: right;\">\n",
       "      <th></th>\n",
       "      <th>open</th>\n",
       "      <th>high</th>\n",
       "      <th>low</th>\n",
       "      <th>close</th>\n",
       "      <th>sizes</th>\n",
       "    </tr>\n",
       "  </thead>\n",
       "  <tbody>\n",
       "    <tr>\n",
       "      <th>0</th>\n",
       "      <td>54.673465</td>\n",
       "      <td>55.201476</td>\n",
       "      <td>51.810608</td>\n",
       "      <td>51.810608</td>\n",
       "      <td>16130</td>\n",
       "    </tr>\n",
       "    <tr>\n",
       "      <th>1000000</th>\n",
       "      <td>54.713263</td>\n",
       "      <td>56.450564</td>\n",
       "      <td>51.730745</td>\n",
       "      <td>54.515736</td>\n",
       "      <td>18347</td>\n",
       "    </tr>\n",
       "    <tr>\n",
       "      <th>2000000</th>\n",
       "      <td>53.992908</td>\n",
       "      <td>54.565729</td>\n",
       "      <td>51.590270</td>\n",
       "      <td>54.005389</td>\n",
       "      <td>18642</td>\n",
       "    </tr>\n",
       "    <tr>\n",
       "      <th>3000000</th>\n",
       "      <td>56.727351</td>\n",
       "      <td>57.061963</td>\n",
       "      <td>53.760381</td>\n",
       "      <td>57.061963</td>\n",
       "      <td>19026</td>\n",
       "    </tr>\n",
       "    <tr>\n",
       "      <th>4000000</th>\n",
       "      <td>57.512744</td>\n",
       "      <td>57.512744</td>\n",
       "      <td>52.475725</td>\n",
       "      <td>54.605392</td>\n",
       "      <td>18152</td>\n",
       "    </tr>\n",
       "  </tbody>\n",
       "</table>\n",
       "</div>"
      ],
      "text/plain": [
       "              open       high        low      close  sizes\n",
       "0        54.673465  55.201476  51.810608  51.810608  16130\n",
       "1000000  54.713263  56.450564  51.730745  54.515736  18347\n",
       "2000000  53.992908  54.565729  51.590270  54.005389  18642\n",
       "3000000  56.727351  57.061963  53.760381  57.061963  19026\n",
       "4000000  57.512744  57.512744  52.475725  54.605392  18152"
      ]
     },
     "execution_count": 83,
     "metadata": {},
     "output_type": "execute_result"
    }
   ],
   "source": [
    "dollar_bar_df = df.groupby(bar(np.cumsum((df['sizes'] * df['prices']).to_numpy(dtype=np.int64)), 1000000)).agg(\n",
    "    {'prices': 'ohlc', 'sizes': 'sum'})\n",
    "dollar_bar_df.columns = dollar_bar_df.columns.get_level_values(1)\n",
    "dollar_bar_df.head()"
   ]
  },
  {
   "cell_type": "code",
   "execution_count": null,
   "id": "a049e487-8bac-4988-b7cc-d863ffa446a0",
   "metadata": {},
   "outputs": [],
   "source": []
  },
  {
   "cell_type": "code",
   "execution_count": null,
   "id": "b59c57c8-9891-4f38-8b32-54b09f78a044",
   "metadata": {},
   "outputs": [],
   "source": []
  }
 ],
 "metadata": {
  "kernelspec": {
   "display_name": "Python 3 (ipykernel)",
   "language": "python",
   "name": "python3"
  },
  "language_info": {
   "codemirror_mode": {
    "name": "ipython",
    "version": 3
   },
   "file_extension": ".py",
   "mimetype": "text/x-python",
   "name": "python",
   "nbconvert_exporter": "python",
   "pygments_lexer": "ipython3",
   "version": "3.9.7"
  },
  "toc": {
   "base_numbering": 1,
   "nav_menu": {},
   "number_sections": true,
   "sideBar": true,
   "skip_h1_title": false,
   "title_cell": "Table of Contents",
   "title_sidebar": "Contents",
   "toc_cell": false,
   "toc_position": {},
   "toc_section_display": true,
   "toc_window_display": false
  }
 },
 "nbformat": 4,
 "nbformat_minor": 5
}
